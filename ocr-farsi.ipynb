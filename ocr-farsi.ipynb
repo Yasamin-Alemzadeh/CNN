{
 "cells": [
  {
   "cell_type": "code",
   "execution_count": 2,
   "metadata": {},
   "outputs": [],
   "source": [
    "import tensorflow as tf\n",
    "from keras import datasets\n",
    "from keras.models import Sequential\n",
    "from keras.layers import Dense,Conv2D,MaxPooling2D,Flatten\n",
    "from sklearn.model_selection import train_test_split\n",
    "import matplotlib.pyplot as plt\n",
    "import pandas as pd\n",
    "import cv2\n",
    "import os\n",
    "import numpy as np\n",
    "import cv2"
   ]
  },
  {
   "cell_type": "code",
   "execution_count": 3,
   "metadata": {},
   "outputs": [],
   "source": [
    "#ایجاد پیش نیاز ها متغییر های لازم\n",
    "#آدرس پوشه دیتا ست\n",
    "Data1=\"./dataset_farsi/\"\n",
    "#x , y های  دیتا ست\n",
    "Dimension=[]\n",
    "Label=[]\n",
    "file=os.listdir(Data1)"
   ]
  },
  {
   "cell_type": "code",
   "execution_count": 4,
   "metadata": {},
   "outputs": [
    {
     "name": "stdout",
     "output_type": "stream",
     "text": [
      "Dimension shape: (80000, 28, 28)\n",
      "Label shape: (80000,)\n"
     ]
    }
   ],
   "source": [
    "#حلقه برای خواندن هر پوشه داخل فلدر اصلی دیتا ست\n",
    "for folder in file:\n",
    "    folder_all = os.path.join(Data1, folder)\n",
    "\n",
    "\n",
    "    #حلقه برای خواندن عکس های داخل پوشه ها\n",
    "    for pic in os.listdir(folder_all):\n",
    "        pic_all=os.path.join(folder_all, pic)\n",
    "        im = cv2.imread(pic_all)\n",
    "\n",
    "        #تبدیل تمام عکس ها به سیاه سفید\n",
    "        im2 = cv2.cvtColor(im, cv2.COLOR_BGR2GRAY)\n",
    "\n",
    "        #یک اندازه کردن تمام عکی ها برای تمیزی دیتا ها\n",
    "        im3 = cv2.resize(im2, (28,28))\n",
    "\n",
    "        #اضافه کردن آرایه هر عکس به عنوان یک دایمنشن\n",
    "        Dimension.append(im3)\n",
    "\n",
    "        #اضافه کردن لیبل برای هر دایمنشن\n",
    "        Label.append(folder)\n",
    "\n",
    "\n",
    "x = np.array(Dimension)\n",
    "y = np.array(Label)\n",
    "\n",
    "print(\"Dimension shape:\", x.shape)\n",
    "print(\"Label shape:\", y.shape)           \n",
    "            "
   ]
  },
  {
   "cell_type": "code",
   "execution_count": 5,
   "metadata": {},
   "outputs": [],
   "source": [
    "X_train, X_test, Y_train, Y_test = train_test_split(x,y,test_size=0.18)\n",
    "\n",
    "from sklearn.preprocessing import LabelEncoder\n",
    "\n",
    "label_encoder = LabelEncoder()\n",
    "Y_train = label_encoder.fit_transform(Y_train)\n",
    "Y_test = label_encoder.transform(Y_test)"
   ]
  },
  {
   "cell_type": "code",
   "execution_count": 6,
   "metadata": {},
   "outputs": [],
   "source": [
    "X_train=np.expand_dims(X_train,axis=3)\n",
    "X_test=np.expand_dims(X_test,axis=3)"
   ]
  },
  {
   "cell_type": "code",
   "execution_count": 7,
   "metadata": {},
   "outputs": [
    {
     "data": {
      "text/plain": [
       "(65600, 28, 28, 1)"
      ]
     },
     "execution_count": 7,
     "metadata": {},
     "output_type": "execute_result"
    }
   ],
   "source": [
    "X_train.shape"
   ]
  },
  {
   "cell_type": "code",
   "execution_count": 8,
   "metadata": {},
   "outputs": [],
   "source": [
    "model=Sequential()\n",
    "model.add(Conv2D(filters=8,\n",
    "                 kernel_size=(3,3),\n",
    "                 activation='relu',\n",
    "                 input_shape=(28,28,1)\n",
    "          ))\n",
    "model.add(MaxPooling2D(2,2))\n",
    "model.add(Flatten())\n",
    "model.add(Dense(32,activation='relu'))\n",
    "model.add(Dense(10))"
   ]
  },
  {
   "cell_type": "code",
   "execution_count": 9,
   "metadata": {},
   "outputs": [
    {
     "name": "stdout",
     "output_type": "stream",
     "text": [
      "Model: \"sequential\"\n",
      "_________________________________________________________________\n",
      " Layer (type)                Output Shape              Param #   \n",
      "=================================================================\n",
      " conv2d (Conv2D)             (None, 26, 26, 8)         80        \n",
      "                                                                 \n",
      " max_pooling2d (MaxPooling2D  (None, 13, 13, 8)        0         \n",
      " )                                                               \n",
      "                                                                 \n",
      " flatten (Flatten)           (None, 1352)              0         \n",
      "                                                                 \n",
      " dense (Dense)               (None, 32)                43296     \n",
      "                                                                 \n",
      " dense_1 (Dense)             (None, 10)                330       \n",
      "                                                                 \n",
      "=================================================================\n",
      "Total params: 43,706\n",
      "Trainable params: 43,706\n",
      "Non-trainable params: 0\n",
      "_________________________________________________________________\n"
     ]
    }
   ],
   "source": [
    "model.summary()"
   ]
  },
  {
   "cell_type": "code",
   "execution_count": 10,
   "metadata": {},
   "outputs": [],
   "source": [
    "model.compile(optimizer='adam',\n",
    "              loss=tf.keras.losses.SparseCategoricalCrossentropy(from_logits=True),\n",
    "              metrics=['accuracy']  \n",
    "              )"
   ]
  },
  {
   "cell_type": "code",
   "execution_count": 11,
   "metadata": {},
   "outputs": [
    {
     "name": "stdout",
     "output_type": "stream",
     "text": [
      "Epoch 1/20\n",
      "2050/2050 [==============================] - 6s 3ms/step - loss: 0.7062 - accuracy: 0.8980 - val_loss: 0.1650 - val_accuracy: 0.9625\n",
      "Epoch 2/20\n",
      "2050/2050 [==============================] - 6s 3ms/step - loss: 0.1225 - accuracy: 0.9695 - val_loss: 0.1226 - val_accuracy: 0.9721\n",
      "Epoch 3/20\n",
      "2050/2050 [==============================] - 6s 3ms/step - loss: 0.0828 - accuracy: 0.9776 - val_loss: 0.0936 - val_accuracy: 0.9788\n",
      "Epoch 4/20\n",
      "2050/2050 [==============================] - 6s 3ms/step - loss: 0.0572 - accuracy: 0.9842 - val_loss: 0.0654 - val_accuracy: 0.9822\n",
      "Epoch 5/20\n",
      "2050/2050 [==============================] - 6s 3ms/step - loss: 0.0469 - accuracy: 0.9855 - val_loss: 0.0603 - val_accuracy: 0.9846\n",
      "Epoch 6/20\n",
      "2050/2050 [==============================] - 6s 3ms/step - loss: 0.0397 - accuracy: 0.9886 - val_loss: 0.0704 - val_accuracy: 0.9829\n",
      "Epoch 7/20\n",
      "2050/2050 [==============================] - 6s 3ms/step - loss: 0.0324 - accuracy: 0.9903 - val_loss: 0.0602 - val_accuracy: 0.9870\n",
      "Epoch 8/20\n",
      "2050/2050 [==============================] - 6s 3ms/step - loss: 0.0273 - accuracy: 0.9920 - val_loss: 0.0524 - val_accuracy: 0.9872\n",
      "Epoch 9/20\n",
      "2050/2050 [==============================] - 6s 3ms/step - loss: 0.0264 - accuracy: 0.9921 - val_loss: 0.0801 - val_accuracy: 0.9845\n",
      "Epoch 10/20\n",
      "2050/2050 [==============================] - 6s 3ms/step - loss: 0.0228 - accuracy: 0.9933 - val_loss: 0.0755 - val_accuracy: 0.9852\n",
      "Epoch 11/20\n",
      "2050/2050 [==============================] - 6s 3ms/step - loss: 0.0223 - accuracy: 0.9936 - val_loss: 0.0619 - val_accuracy: 0.9883\n",
      "Epoch 12/20\n",
      "2050/2050 [==============================] - 6s 3ms/step - loss: 0.0177 - accuracy: 0.9947 - val_loss: 0.0676 - val_accuracy: 0.9890\n",
      "Epoch 13/20\n",
      "2050/2050 [==============================] - 6s 3ms/step - loss: 0.0177 - accuracy: 0.9950 - val_loss: 0.0588 - val_accuracy: 0.9895\n",
      "Epoch 14/20\n",
      "2050/2050 [==============================] - 6s 3ms/step - loss: 0.0175 - accuracy: 0.9948 - val_loss: 0.0769 - val_accuracy: 0.9875\n",
      "Epoch 15/20\n",
      "2050/2050 [==============================] - 6s 3ms/step - loss: 0.0203 - accuracy: 0.9945 - val_loss: 0.0683 - val_accuracy: 0.9890\n",
      "Epoch 16/20\n",
      "2050/2050 [==============================] - 6s 3ms/step - loss: 0.0142 - accuracy: 0.9959 - val_loss: 0.0825 - val_accuracy: 0.9883\n",
      "Epoch 17/20\n",
      "2050/2050 [==============================] - 6s 3ms/step - loss: 0.0151 - accuracy: 0.9957 - val_loss: 0.0709 - val_accuracy: 0.9894\n",
      "Epoch 18/20\n",
      "2050/2050 [==============================] - 6s 3ms/step - loss: 0.0142 - accuracy: 0.9962 - val_loss: 0.0714 - val_accuracy: 0.9892\n",
      "Epoch 19/20\n",
      "2050/2050 [==============================] - 6s 3ms/step - loss: 0.0144 - accuracy: 0.9959 - val_loss: 0.1041 - val_accuracy: 0.9863\n",
      "Epoch 20/20\n",
      "2050/2050 [==============================] - 5s 3ms/step - loss: 0.0132 - accuracy: 0.9968 - val_loss: 0.1058 - val_accuracy: 0.9871\n"
     ]
    }
   ],
   "source": [
    "h=model.fit(X_train,Y_train,epochs=20,validation_data=(X_test,Y_test))"
   ]
  },
  {
   "cell_type": "code",
   "execution_count": 11,
   "metadata": {},
   "outputs": [],
   "source": [
    "model.save('ocr-farsi-0.h5')"
   ]
  },
  {
   "cell_type": "code",
   "execution_count": 12,
   "metadata": {},
   "outputs": [
    {
     "name": "stdout",
     "output_type": "stream",
     "text": [
      "450/450 [==============================] - 1s 1ms/step\n"
     ]
    }
   ],
   "source": [
    "pretest = model.predict(X_test)"
   ]
  },
  {
   "cell_type": "code",
   "execution_count": 13,
   "metadata": {},
   "outputs": [
    {
     "data": {
      "text/plain": [
       "array([ 47.55489 ,  88.3691  ,  78.59645 ,  56.812973,  56.26577 ,\n",
       "       -23.443865, 124.76405 ,  73.58145 , -18.583565,  72.553696],\n",
       "      dtype=float32)"
      ]
     },
     "execution_count": 13,
     "metadata": {},
     "output_type": "execute_result"
    }
   ],
   "source": [
    "pretest[75]"
   ]
  },
  {
   "cell_type": "code",
   "execution_count": 14,
   "metadata": {},
   "outputs": [
    {
     "data": {
      "image/png": "[encoded data removed]",
      "text/plain": [
       "<Figure size 640x480 with 1 Axes>"
      ]
     },
     "metadata": {},
     "output_type": "display_data"
    },
    {
     "name": "stdout",
     "output_type": "stream",
     "text": [
      "6\n"
     ]
    }
   ],
   "source": [
    "plt.close()\n",
    "plt.imshow(X_test[75])\n",
    "plt.show()\n",
    "print(Y_test[75])"
   ]
  },
  {
   "cell_type": "code",
   "execution_count": 15,
   "metadata": {},
   "outputs": [
    {
     "data": {
      "image/png": "[encoded data removed]",
      "text/plain": [
       "<Figure size 640x480 with 1 Axes>"
      ]
     },
     "metadata": {},
     "output_type": "display_data"
    },
    {
     "name": "stdout",
     "output_type": "stream",
     "text": [
      "(1, 28, 28, 1)\n",
      "1/1 [==============================] - 0s 42ms/step\n",
      "میزان امتیاز 82.29446411132812 عدد شما = 8. می باشد\n"
     ]
    }
   ],
   "source": [
    "img_test = cv2.imread('test-0-8.png')\n",
    "img_test = cv2.cvtColor(img_test, cv2.COLOR_BGR2GRAY)  # Convert to RGB color space\n",
    "img_test = cv2.resize(img_test, (28, 28))\n",
    "#img1 = img1 / 255.0\n",
    "\n",
    "plt.close()\n",
    "plt.imshow(img_test)\n",
    "plt.show()\n",
    "\n",
    "\n",
    "\n",
    "img_test = np.expand_dims(img_test, axis=2)\n",
    "img_test = np.expand_dims(img_test, axis=0)\n",
    "\n",
    "print(img_test.shape)\n",
    "predimg1 = model.predict(img_test)\n",
    "\n",
    "\n",
    "\n",
    "\n",
    "# Find the index of the largest number\n",
    "max_index = np.argmax(predimg1)\n",
    "\n",
    "# Find the largest number\n",
    "largest_number = predimg1[0, max_index]\n",
    "\n",
    "print(f\"میزان امتیاز {largest_number} عدد شما = {max_index}. می باشد\")\n"
   ]
  },
  {
   "cell_type": "markdown",
   "metadata": {},
   "source": [
    "loaded\n"
   ]
  },
  {
   "cell_type": "code",
   "execution_count": 19,
   "metadata": {},
   "outputs": [
    {
     "data": {
      "image/png": "[encoded data removed]",
      "text/plain": [
       "<Figure size 640x480 with 1 Axes>"
      ]
     },
     "metadata": {},
     "output_type": "display_data"
    },
    {
     "name": "stdout",
     "output_type": "stream",
     "text": [
      "(1, 28, 28, 1)\n",
      "1/1 [==============================] - 0s 38ms/step\n",
      " عدد شما =>>>✅>>>> 5 <<<<✅<<<. می باشد\n"
     ]
    }
   ],
   "source": [
    "from keras.models import Sequential\n",
    "from keras.layers import Dense, Flatten\n",
    "import tensorflow as tf\n",
    "from keras import datasets, layers, models\n",
    "from matplotlib import pyplot as plt \n",
    "import cv2\n",
    "import numpy as np\n",
    "import os\n",
    "import cv2\n",
    "import numpy as np\n",
    "\n",
    "\n",
    "model = models.Sequential()\n",
    "model.add(layers.Conv2D(8, (3, 3), activation='relu', input_shape=(28, 28, 1)))\n",
    "model.add(layers.MaxPooling2D((2, 2)))\n",
    "model.add(layers.Flatten())\n",
    "model.add(layers.Dense(32, activation='relu'))\n",
    "model.add(layers.Dense(10))\n",
    "\n",
    "model.compile(optimizer='adam',\n",
    "              loss=tf.keras.losses.SparseCategoricalCrossentropy(from_logits=True),\n",
    "              metrics=['accuracy'])\n",
    "\n",
    "model.load_weights('ocr-farsi-0.h5')\n",
    "\n",
    "img1 = cv2.imread('test-0-5.png')\n",
    "img1 = cv2.cvtColor(img1, cv2.COLOR_BGR2GRAY)  # Convert to RGB color space\n",
    "img1 = cv2.resize(img1, (28, 28))\n",
    "#img1 = img1 / 255.0\n",
    "\n",
    "plt.close()\n",
    "plt.imshow(img1)\n",
    "plt.show()\n",
    "\n",
    "\n",
    "\n",
    "img1 = np.expand_dims(img1, axis=2)\n",
    "img1 = np.expand_dims(img1, axis=0)\n",
    "\n",
    "print(img1.shape)\n",
    "predimg1 = model.predict(img1)\n",
    "\n",
    "\n",
    "\n",
    "\n",
    "# Find the index of the largest number\n",
    "max_index = np.argmax(predimg1)\n",
    "\n",
    "# Find the largest number\n",
    "largest_number = predimg1[0, max_index]\n",
    "\n",
    "print(f\" عدد شما =>>>✅>>>> {max_index} <<<<✅<<<. می باشد\")\n"
   ]
  }
 ],
 "metadata": {
  "kernelspec": {
   "display_name": "Python 3",
   "language": "python",
   "name": "python3"
  },
  "language_info": {
   "codemirror_mode": {
    "name": "ipython",
    "version": 3
   },
   "file_extension": ".py",
   "mimetype": "text/x-python",
   "name": "python",
   "nbconvert_exporter": "python",
   "pygments_lexer": "ipython3",
   "version": "3.10.11"
  },
  "orig_nbformat": 4
 },
 "nbformat": 4,
 "nbformat_minor": 2
}
